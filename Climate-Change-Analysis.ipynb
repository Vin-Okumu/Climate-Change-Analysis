{
  "nbformat": 4,
  "nbformat_minor": 0,
  "metadata": {
    "colab": {
      "provenance": [],
      "authorship_tag": "ABX9TyMVr11MSp06WcOCkydUX0ly",
      "include_colab_link": true
    },
    "kernelspec": {
      "name": "ir",
      "display_name": "R"
    },
    "language_info": {
      "name": "R"
    }
  },
  "cells": [
    {
      "cell_type": "markdown",
      "metadata": {
        "id": "view-in-github",
        "colab_type": "text"
      },
      "source": [
        "<a href=\"https://colab.research.google.com/github/Vin-Okumu/Climate-Change-Analysis/blob/main/Climate-Change-Analysis.ipynb\" target=\"_parent\"><img src=\"https://colab.research.google.com/assets/colab-badge.svg\" alt=\"Open In Colab\"/></a>"
      ]
    },
    {
      "cell_type": "code",
      "source": [
        "!apt-get install r-base\n",
        "!R -e \"install.packages('IRkernel'); IRkernel::installspec(user = TRUE)\""
      ],
      "metadata": {
        "colab": {
          "base_uri": "https://localhost:8080/"
        },
        "id": "AM_7gInd67lI",
        "outputId": "d49536ed-5d99-4114-b2d3-396db09c19ac"
      },
      "execution_count": 1,
      "outputs": [
        {
          "output_type": "stream",
          "name": "stdout",
          "text": [
            "Reading package lists... Done\n",
            "Building dependency tree... Done\n",
            "Reading state information... Done\n",
            "r-base is already the newest version (4.4.3-1.2204.0).\n",
            "0 upgraded, 0 newly installed, 0 to remove and 29 not upgraded.\n",
            "\n",
            "R version 4.4.3 (2025-02-28) -- \"Trophy Case\"\n",
            "Copyright (C) 2025 The R Foundation for Statistical Computing\n",
            "Platform: x86_64-pc-linux-gnu\n",
            "\n",
            "R is free software and comes with ABSOLUTELY NO WARRANTY.\n",
            "You are welcome to redistribute it under certain conditions.\n",
            "Type 'license()' or 'licence()' for distribution details.\n",
            "\n",
            "  Natural language support but running in an English locale\n",
            "\n",
            "R is a collaborative project with many contributors.\n",
            "Type 'contributors()' for more information and\n",
            "'citation()' on how to cite R or R packages in publications.\n",
            "\n",
            "Type 'demo()' for some demos, 'help()' for on-line help, or\n",
            "'help.start()' for an HTML browser interface to help.\n",
            "Type 'q()' to quit R.\n",
            "\n",
            "> install.packages('IRkernel'); IRkernel::installspec(user = TRUE)\n",
            "Installing package into ‘/usr/local/lib/R/site-library’\n",
            "(as ‘lib’ is unspecified)\n",
            "trying URL 'https://cran.rstudio.com/src/contrib/IRkernel_1.3.2.tar.gz'\n",
            "Content type 'application/x-gzip' length 45172 bytes (44 KB)\n",
            "==================================================\n",
            "downloaded 44 KB\n",
            "\n",
            "* installing *source* package ‘IRkernel’ ...\n",
            "** package ‘IRkernel’ successfully unpacked and MD5 sums checked\n",
            "** using staged installation\n",
            "** R\n",
            "** inst\n",
            "** byte-compile and prepare package for lazy loading\n",
            "** help\n",
            "*** installing help indices\n",
            "** building package indices\n",
            "** testing if installed package can be loaded from temporary location\n",
            "** testing if installed package can be loaded from final location\n",
            "** testing if installed package keeps a record of temporary installation path\n",
            "* DONE (IRkernel)\n",
            "\n",
            "The downloaded source packages are in\n",
            "\t‘/tmp/RtmpAhIYw7/downloaded_packages’\n",
            "\u001b[?25h> \n",
            "> \n",
            "\u001b[?25h"
          ]
        }
      ]
    },
    {
      "cell_type": "code",
      "source": [
        "url <- \"https://github.com/Vin-Okumu/Climate-Change-Indicator-Analysis/blob/main/Climate_Change.zip\"\n",
        "download.file(url, destfile = \"Climate_Change.zip\")\n",
        "unzip(\"Climate_Change.zip\")\n",
        "df <- read.csv(\"data.csv\")"
      ],
      "metadata": {
        "colab": {
          "base_uri": "https://localhost:8080/",
          "height": 295
        },
        "id": "Zx7vt22JxUmK",
        "outputId": "2a7e8b18-6e80-4c74-fcdd-50def298bf14"
      },
      "execution_count": 5,
      "outputs": [
        {
          "output_type": "stream",
          "name": "stderr",
          "text": [
            "Warning message in download.file(url, destfile = \"Climate_Change.zip\"):\n",
            "“cannot open URL 'https://github.com/Vin-Okumu/Climate-Change-Indicator-Analysis/blob/main/Climate_Change.zip': HTTP status was '404 Not Found'”\n"
          ]
        },
        {
          "output_type": "error",
          "ename": "ERROR",
          "evalue": "Error in download.file(url, destfile = \"Climate_Change.zip\"): cannot open URL 'https://github.com/Vin-Okumu/Climate-Change-Indicator-Analysis/blob/main/Climate_Change.zip'\n",
          "traceback": [
            "Error in download.file(url, destfile = \"Climate_Change.zip\"): cannot open URL 'https://github.com/Vin-Okumu/Climate-Change-Indicator-Analysis/blob/main/Climate_Change.zip'\nTraceback:\n",
            "1. .handleSimpleError(function (cnd) \n . {\n .     watcher$capture_plot_and_output()\n .     cnd <- sanitize_call(cnd)\n .     watcher$push(cnd)\n .     switch(on_error, continue = invokeRestart(\"eval_continue\"), \n .         stop = invokeRestart(\"eval_stop\"), error = NULL)\n . }, \"cannot open URL 'https://github.com/Vin-Okumu/Climate-Change-Indicator-Analysis/blob/main/Climate_Change.zip'\", \n .     base::quote(download.file(url, destfile = \"Climate_Change.zip\")))"
          ]
        }
      ]
    },
    {
      "cell_type": "code",
      "source": [
        "anyNA(df) #Checks for missing values, helps ensure there are no missing values within data frame\n",
        "head(df) #Returns a glimpse of the data frame"
      ],
      "metadata": {
        "id": "ZkzdpjwBxZej"
      },
      "execution_count": null,
      "outputs": []
    },
    {
      "cell_type": "code",
      "source": [
        "library(dplyr)\n",
        "df = df%>%arrange(Year) #Rearranges the data in the data frame by year\n",
        "head(df)\n",
        "tail(df)"
      ],
      "metadata": {
        "id": "Y_HuHztxxcUz"
      },
      "execution_count": null,
      "outputs": []
    },
    {
      "cell_type": "code",
      "source": [
        "df = df %>%\n",
        "  group_by(Year) %>%\n",
        "  summarise(across(everything(),\\(x)mean(x, na.rm = TRUE))) #calculates the mean readings for each year respectively\n",
        "head(df)\n",
        "tail(df)"
      ],
      "metadata": {
        "id": "7M8j_0_8xfQD"
      },
      "execution_count": null,
      "outputs": []
    },
    {
      "cell_type": "code",
      "source": [
        "# Check normality using Shapiro-Wilk test\n",
        "for (col in c(\"Global_Avg_Temp\", \"CO2_Conc\", \"Rise_in_Sea_Lvl\", \"Arctic_Ice_Area\")) {\n",
        "  cat(\"\\nShapiro-Wilk test for\", col, \"\\n\")\n",
        "  print(shapiro.test(df[[col]]))\n",
        "}"
      ],
      "metadata": {
        "id": "A6UnC6wkxi2L"
      },
      "execution_count": null,
      "outputs": []
    },
    {
      "cell_type": "code",
      "source": [
        "library(ggplot2)\n",
        "# Convert data to long format\n",
        "df_long <- pivot_longer(df, cols = c(Global_Avg_Temp, CO2_Conc, Rise_in_Sea_Lvl, Arctic_Ice_Area),\n",
        "                        names_to = \"Variable\", values_to = \"Value\")\n",
        "\n",
        "# Plot histograms using facets\n",
        "ggplot(df_long, aes(x = Value)) +\n",
        "  geom_histogram(aes(y = after_stat(density)), bins = 10, fill = \"goldenrod4\", alpha = 0.5) +\n",
        "  geom_density(color = \"grey0\", linewidth = 0.5) +  # Density curve\n",
        "  facet_wrap(~ Variable, scales = \"free\") +  # Separate histograms for each variable\n",
        "  theme_minimal() +\n",
        "  labs(title = \"Histograms of Readings\", x = \"Value\", y = \"Density\") +\n",
        "  theme(\n",
        "      strip.text = element_text(size = 14, face = \"bold\", color = \"black\"),\n",
        "      panel.spacing = unit(1, \"cm\"),  #increase space between facets\n",
        "      panel.grid.major = element_blank(), #removes major  gridlines\n",
        "      panel.grid.minor = element_blank(),\n",
        "      axis.title = element_text(color = \"black\", size = 18), #colors the axis titles bisque\n",
        "      plot.title = element_text(color = \"black\", face = \"bold\", hjust = 0.5, size = 20)) #removes minor gridlines\n",
        "      options(repr.plot.width = 12, repr.plot.height = 8) #sets panel width and height\n"
      ],
      "metadata": {
        "id": "5iW2k8Boxnxz"
      },
      "execution_count": null,
      "outputs": []
    },
    {
      "cell_type": "code",
      "source": [
        "ggplot(df,aes(x = CO2_Conc, y = Global_Avg_Temp)) +\n",
        "  geom_point(pch = 15, color = \"firebrick3\", size = 1.5) +\n",
        "  ggtitle(\"CO2 Concentration vs Global Average\\nTemperature\") +\n",
        "  scale_x_continuous(expand = c(0.01,0.01)) +\n",
        "  geom_smooth(method = \"lm\", se = FALSE, color = \"darkblue\", linewidth = 0.4) +\n",
        "  theme_minimal(base_size = 15) +\n",
        "  theme(\n",
        "    plot.background = element_rect(fill = \"grey85\", color = NA), #greys out the background\n",
        "    panel.background = element_rect(fill = \"gray99\", color = NA), #colors the panel white\n",
        "    panel.grid.major = element_blank(), #removes major  gridlines\n",
        "    panel.grid.minor = element_blank(), #removes minor gridlines\n",
        "    axis.text = element_text(color = \"black\"), #colors the axis labels lavender\n",
        "    axis.title = element_text(color = \"gray25\", face = \"bold\"), #colors the axis titles bisque\n",
        "    plot.title = element_text(color = \"grey10\", face = \"bold\", hjust = 0.5, size = 20) #Colors the title gold, bold it and centers it across the canvas\n",
        "  )"
      ],
      "metadata": {
        "id": "DXI_uWbGxr-D"
      },
      "execution_count": null,
      "outputs": []
    },
    {
      "cell_type": "code",
      "source": [
        "#Performing pearson correlation test\n",
        "Corr_1 = cor.test(df$Global_Avg_Temp,df$CO2_Conc, method = \"pearson\")\n",
        "print(Corr_1)\n",
        "\n",
        "#Extracting P-value\n",
        "p_value = Corr_1$p.value\n",
        "\n",
        "#Hypothesis\n",
        "if (p_value < 0.05) {\n",
        "  print(\"There is a significant correlation between Global average temperature and CO2 concentration.\")\n",
        "} else {\n",
        "  print(\"There is no significant correlation between Global average temperature and CO2 concentration.\")\n",
        "}"
      ],
      "metadata": {
        "id": "BWc-KNEaxtI7"
      },
      "execution_count": null,
      "outputs": []
    },
    {
      "cell_type": "code",
      "source": [
        "ggplot(df,aes(x = Global_Avg_Temp, y = Rise_in_Sea_Lvl)) +\n",
        "  geom_point(pch = 8, color = \"azure\", size = 2) +\n",
        "  ggtitle(\"Global Average Temperature vs Rise in Sea\\nLevel\") +\n",
        "  scale_x_continuous(expand = c(0.001,0.001)) +\n",
        "  geom_smooth(method = \"lm\", se = FALSE, color = \"ivory\", linewidth = 0.4) +\n",
        "  theme_minimal(base_size = 15) +\n",
        "  theme(\n",
        "    plot.background = element_rect(fill = \"grey5\", color = NA), #greys out the background\n",
        "    panel.background = element_rect(fill = \"gray8\", color = NA), #colors the panel white\n",
        "    panel.grid.major = element_blank(), #removes major  gridlines\n",
        "    panel.grid.minor = element_blank(), #removes minor gridlines\n",
        "    axis.text = element_text(color = \"lavender\"), #colors the axis labels lavender\n",
        "    axis.title = element_text(color = \"bisque\", face = \"bold\"), #colors the axis titles bisque\n",
        "    plot.title = element_text(color = \"ivory\", face = \"bold\", hjust = 0.5, size = 20) #Colors the title gold, bold it and centers it across the canvas\n",
        "  )"
      ],
      "metadata": {
        "id": "kK85s0C_xv5z"
      },
      "execution_count": null,
      "outputs": []
    },
    {
      "cell_type": "code",
      "source": [
        "Corr_2 = cor.test(df$Global_Avg_Temp,df$Rise_in_Sea_Lvl, method = \"pearson\")\n",
        "print(Corr_2)\n",
        "\n",
        "#Extracting P-value\n",
        "p_value = Corr_2$p.value\n",
        "\n",
        "#Hypothesis\n",
        "\n",
        "if (p_value < 0.05) {\n",
        "  print(\"There is a significant correlation between Global average temperature and Rise in sea level.\")\n",
        "} else {\n",
        "  print(\"There is no significant correlation between Global average temperature and Rise in sea level.\")\n",
        "}"
      ],
      "metadata": {
        "id": "fmIG0gDfxy5z"
      },
      "execution_count": null,
      "outputs": []
    },
    {
      "cell_type": "code",
      "source": [
        "ggplot(df,aes(x = Global_Avg_Temp, y = Arctic_Ice_Area)) +\n",
        "  geom_point(pch = 8, color = \"darkblue\", size = 2) +\n",
        "  ggtitle(\"Global Average Temperature vs Arctic Ice Area\") +\n",
        "  scale_x_continuous(expand = c(0.001,0.001)) +\n",
        "  geom_smooth(method = \"lm\", se = FALSE, color = \"firebrick4\", linewidth = 0.4) +\n",
        "  theme_minimal(base_size = 15) +\n",
        "  theme(\n",
        "    plot.background = element_rect(fill = \"grey45\", color = NA), #greys out the background\n",
        "    panel.background = element_rect(fill = \"grey95\", color = NA), #colors the panel white\n",
        "    panel.grid.major = element_blank(), #removes major  gridlines\n",
        "    panel.grid.minor = element_blank(), #removes minor gridlines\n",
        "    axis.text = element_text(color = \"lavender\"), #colors the axis labels lavender\n",
        "    axis.title = element_text(color = \"bisque\", face = \"bold\"), #colors the axis titles bisque\n",
        "    plot.title = element_text(color = \"darkorange2\", face = \"bold\", hjust = 0.5, size = 20) #Colors the title gold, bold it and centers it across the canvas\n",
        "  )"
      ],
      "metadata": {
        "id": "_cM3NLeSx3Pk"
      },
      "execution_count": null,
      "outputs": []
    },
    {
      "cell_type": "code",
      "source": [
        "Corr_3 = cor.test(df$Global_Avg_Temp,df$Arctic_Ice_Area, method = \"pearson\")\n",
        "print(Corr_3)\n",
        "\n",
        "#Extracting P-value\n",
        "p_value = Corr_3$p.value\n",
        "\n",
        "#Hypothesis\n",
        "\n",
        "if (p_value < 0.05) {\n",
        "  print(\"There is a significant correlation between Global average temperature and Arctic ice area.\")\n",
        "} else {\n",
        "  print(\"There is no significant correlation between Global average temperature and Arctic ice area.\")\n",
        "}\n"
      ],
      "metadata": {
        "id": "h_eK7ZjYx9MU"
      },
      "execution_count": null,
      "outputs": []
    },
    {
      "cell_type": "code",
      "source": [
        "ggplot(df,aes(x = CO2_Conc, y = Arctic_Ice_Area)) +\n",
        "  geom_point(pch = 17, color = \"black\", size = 2) +\n",
        "  ggtitle(\"CO2 Concentration vs Arctic Ice Area\") +\n",
        "  scale_x_continuous(expand = c(0.001,0.001)) +\n",
        "  geom_smooth(method = \"lm\", se = FALSE, color = \"firebrick4\", linewidth = 0.4) +\n",
        "  theme_minimal(base_size = 15) +\n",
        "  theme(\n",
        "    plot.background = element_rect(fill = \"grey4\", color = NA), #greys out the background\n",
        "    panel.background = element_rect(fill = \"aliceblue\", color = NA), #colors the panel white\n",
        "    panel.grid.major = element_blank(), #removes major  gridlines\n",
        "    panel.grid.minor = element_blank(), #removes minor gridlines\n",
        "    axis.text = element_text(color = \"lavender\"), #colors the axis labels lavender\n",
        "    axis.title = element_text(color = \"bisque\", face = \"bold\"), #colors the axis titles bisque\n",
        "    plot.title = element_text(color = \"ivory\", face = \"bold\", hjust = 0.5, size = 20) #Colors the title gold, bold it and centers it across the canvas\n",
        "  )"
      ],
      "metadata": {
        "id": "oVY_R7AJyAhD"
      },
      "execution_count": null,
      "outputs": []
    },
    {
      "cell_type": "code",
      "source": [
        "Corr_4 = cor.test(df$CO2_Conc,df$Arctic_Ice_Area, method = \"pearson\")\n",
        "print(Corr_4)\n",
        "\n",
        "#Extracting P-value\n",
        "p_value = Corr_4$p.value\n",
        "\n",
        "#Hypothesis\n",
        "\n",
        "if (p_value < 0.05) {\n",
        "  print(\"There is a significant correlation between CO2 concentration and Arctic ice area.\")\n",
        "} else {\n",
        "  print(\"There is no significant correlation between CO2 concentration and Arctic ice area.\")\n",
        "}"
      ],
      "metadata": {
        "id": "XSIW730qyDYr"
      },
      "execution_count": null,
      "outputs": []
    },
    {
      "cell_type": "code",
      "source": [
        "ggplot(df,aes(x = CO2_Conc, y = Rise_in_Sea_Lvl)) +\n",
        "  geom_point(pch = 8, color = \"darkgreen\", size = 2) +\n",
        "  ggtitle(\"CO2 Concentration vs Rise in Sea Level\") +\n",
        "  scale_x_continuous(expand = c(0,0)) +\n",
        "  geom_smooth(method = \"lm\", se = FALSE, color = \"firebrick4\", linewidth = 0.4) +\n",
        "  theme_minimal(base_size = 15) +\n",
        "  theme(\n",
        "    plot.background = element_rect(fill = \"white\", color = NA), #greys out the background\n",
        "    panel.background = element_rect(fill = \"grey98\", color = NA), #colors the panel white\n",
        "    panel.grid.major = element_blank(), #removes major  gridlines\n",
        "    panel.grid.minor = element_blank(), #removes minor gridlines\n",
        "    axis.text = element_text(color = \"darkgreen\"), #colors the axis labels lavender\n",
        "    axis.title = element_text(color = \"darkgreen\", face = \"bold\"), #colors the axis titles bisque\n",
        "    plot.title = element_text(color = \"limegreen\", face = \"bold\", hjust = 0.5, size = 20) #Colors the title gold, bold it and centers it across the canvas\n",
        "  )"
      ],
      "metadata": {
        "id": "oaP1QAZ-yF-c"
      },
      "execution_count": null,
      "outputs": []
    },
    {
      "cell_type": "code",
      "source": [
        "Corr_5 = cor.test(df$CO2_Conc,df$Rise_in_Sea_Lvl, method = \"pearson\")\n",
        "print(Corr_5)\n",
        "\n",
        "#Extracting P-value\n",
        "p_value = Corr_5$p.value\n",
        "\n",
        "#Hypothesis\n",
        "\n",
        "if (p_value < 0.05) {\n",
        "  print(\"There is a significant correlation between CO2 concentration and Rise in sea level.\")\n",
        "} else {\n",
        "  print(\"There is no significant correlation between CO2 concentration and Rise in sea level.\")\n",
        "}"
      ],
      "metadata": {
        "id": "3xJGuA0YyI7M"
      },
      "execution_count": null,
      "outputs": []
    },
    {
      "cell_type": "code",
      "source": [
        "ggplot(df,aes(x = Arctic_Ice_Area, y = Rise_in_Sea_Lvl)) +\n",
        "  geom_point(pch = 18, color = \"grey1\", size = 3.5) +\n",
        "  ggtitle(\"Arctic Ice Area vs Rise in Sea Level\") +\n",
        "  scale_x_continuous(expand = c(0.001,0.001)) +\n",
        "  geom_smooth(method = \"lm\", se = FALSE, color = \"firebrick4\", linewidth = 0.4) +\n",
        "  theme_minimal(base_size = 15) +\n",
        "  theme(\n",
        "    plot.background = element_rect(fill = \"grey0\", color = NA), #greys out the background\n",
        "    panel.background = element_rect(fill = \"grey98\", color = NA), #colors the panel white\n",
        "    panel.grid.major = element_blank(), #removes major  gridlines\n",
        "    panel.grid.minor = element_blank(), #removes minor gridlines\n",
        "    axis.text = element_text(color = \"lavender\"), #colors the axis labels lavender\n",
        "    axis.title = element_text(color = \"bisque\", face = \"bold\"), #colors the axis titles bisque\n",
        "    plot.title = element_text(color = \"cornsilk\", face = \"bold\", hjust = 0.5, size = 20) #Colors the title gold, bold it and centers it across the canvas\n",
        "  )"
      ],
      "metadata": {
        "id": "-A3GYQSsyJnL"
      },
      "execution_count": null,
      "outputs": []
    },
    {
      "cell_type": "code",
      "source": [
        "Corr_6 = cor.test(df$Arctic_Ice_Area,df$Rise_in_Sea_Lvl, method = \"pearson\")\n",
        "print(Corr_6)\n",
        "\n",
        "#Extracting P-value\n",
        "p_value = Corr_6$p.value\n",
        "\n",
        "#Hypothesis\n",
        "\n",
        "if (p_value < 0.05) {\n",
        "  print(\"There is a significant correlation between Arctic ice area and Rise in sea level.\")\n",
        "} else {\n",
        "  print(\"There is no significant correlation between Arctic ice area and Rise in sea level.\")\n",
        "}"
      ],
      "metadata": {
        "id": "3BU40p8pyMVj"
      },
      "execution_count": null,
      "outputs": []
    }
  ]
}